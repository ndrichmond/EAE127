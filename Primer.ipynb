{
 "cells": [
  {
   "cell_type": "code",
   "execution_count": 1,
   "metadata": {},
   "outputs": [
    {
     "name": "stdout",
     "output_type": "stream",
     "text": [
      "Name =  Dr. Heinz Doofenshmirtz\n",
      "City =  Tri-State-Area\n",
      "SSN =  18245\n",
      "I'm Dr. Heinz Doofenshmirtz, from Tri-State-Area and my SSN is 18245\n"
     ]
    }
   ],
   "source": [
    "\n",
    "name = \"Dr. Heinz Doofenshmirtz\"\n",
    "city = \"Tri-State-Area\"\n",
    "SSN = 18245\n",
    "\n",
    "print (\"Name = \", name)\n",
    "print(\"City = \", city)\n",
    "print(\"SSN = \", SSN)\n",
    "\n",
    "print(\"I'm {}, from {} and my SSN is {}\".format(name,city,SSN))"
   ]
  },
  {
   "cell_type": "code",
   "execution_count": null,
   "metadata": {},
   "outputs": [],
   "source": [
    "info = [name,city,SSN]\n",
    "\n",
    "for element in info:\n",
    "    if(type(element) == str):\n",
    "        print(element)\n",
    "    else:\n",
    "        print(\"ha you thought\")\n"
   ]
  },
  {
   "cell_type": "code",
   "execution_count": 30,
   "metadata": {},
   "outputs": [
    {
     "name": "stdout",
     "output_type": "stream",
     "text": [
      "[0. 1. 2. 3. 4. 5.]\n",
      "[0. 1.]\n",
      "[0. 1. 2. 3.]\n",
      "[1. 2. 3. 4. 5.]\n"
     ]
    }
   ],
   "source": [
    "import numpy as np #type:ignore\n",
    "x=np.linspace(0,5,6)\n",
    "print(x)\n",
    "y = np.zeros(11)\n",
    "#print(y)\n",
    "z = np.arange(0,5+0.5,0.5)\n",
    "#print(z)\n",
    "\n",
    "print(x[0:2]) #prints the first two entries in list\n",
    "print(x[:-2]) #prints all but the last two entries\n",
    "print(x[1:]) #prints all but the first entry"
   ]
  },
  {
   "cell_type": "code",
   "execution_count": 31,
   "metadata": {},
   "outputs": [
    {
     "name": "stdout",
     "output_type": "stream",
     "text": [
      "[[0. 1. 2. 3. 4. 5.]\n",
      " [0. 1. 2. 3. 4. 5.]\n",
      " [0. 1. 2. 3. 4. 5.]\n",
      " [0. 1. 2. 3. 4. 5.]\n",
      " [0. 1. 2. 3. 4. 5.]\n",
      " [0. 1. 2. 3. 4. 5.]]\n",
      "\n",
      "\n"
     ]
    },
    {
     "ename": "ValueError",
     "evalue": "The truth value of an array with more than one element is ambiguous. Use a.any() or a.all()",
     "output_type": "error",
     "traceback": [
      "\u001b[0;31m---------------------------------------------------------------------------\u001b[0m",
      "\u001b[0;31mValueError\u001b[0m                                Traceback (most recent call last)",
      "Cell \u001b[0;32mIn[31], line 23\u001b[0m\n\u001b[1;32m     16\u001b[0m     \u001b[38;5;28;01mreturn\u001b[39;00m(temp_column)\n\u001b[1;32m     19\u001b[0m showCol \u001b[38;5;241m=\u001b[39m [\n\u001b[1;32m     20\u001b[0m     [\u001b[38;5;124m'\u001b[39m\u001b[38;5;124mColumn 1\u001b[39m\u001b[38;5;124m'\u001b[39m, getColumn(X,\u001b[38;5;241m0\u001b[39m)]\n\u001b[1;32m     21\u001b[0m ]\n\u001b[0;32m---> 23\u001b[0m \u001b[38;5;28mprint\u001b[39m(\u001b[43mtabulate\u001b[49m\u001b[43m(\u001b[49m\u001b[43mshowCol\u001b[49m\u001b[43m)\u001b[49m)\n",
      "File \u001b[0;32m~/VSCode/EAE127/.venv/lib/python3.12/site-packages/tabulate/__init__.py:2048\u001b[0m, in \u001b[0;36mtabulate\u001b[0;34m(tabular_data, headers, tablefmt, floatfmt, intfmt, numalign, stralign, missingval, showindex, disable_numparse, colalign, maxcolwidths, rowalign, maxheadercolwidths)\u001b[0m\n\u001b[1;32m   2045\u001b[0m \u001b[38;5;28;01mif\u001b[39;00m tabular_data \u001b[38;5;129;01mis\u001b[39;00m \u001b[38;5;28;01mNone\u001b[39;00m:\n\u001b[1;32m   2046\u001b[0m     tabular_data \u001b[38;5;241m=\u001b[39m []\n\u001b[0;32m-> 2048\u001b[0m list_of_lists, headers \u001b[38;5;241m=\u001b[39m \u001b[43m_normalize_tabular_data\u001b[49m\u001b[43m(\u001b[49m\n\u001b[1;32m   2049\u001b[0m \u001b[43m    \u001b[49m\u001b[43mtabular_data\u001b[49m\u001b[43m,\u001b[49m\u001b[43m \u001b[49m\u001b[43mheaders\u001b[49m\u001b[43m,\u001b[49m\u001b[43m \u001b[49m\u001b[43mshowindex\u001b[49m\u001b[38;5;241;43m=\u001b[39;49m\u001b[43mshowindex\u001b[49m\n\u001b[1;32m   2050\u001b[0m \u001b[43m\u001b[49m\u001b[43m)\u001b[49m\n\u001b[1;32m   2051\u001b[0m list_of_lists, separating_lines \u001b[38;5;241m=\u001b[39m _remove_separating_lines(list_of_lists)\n\u001b[1;32m   2053\u001b[0m \u001b[38;5;28;01mif\u001b[39;00m maxcolwidths \u001b[38;5;129;01mis\u001b[39;00m \u001b[38;5;129;01mnot\u001b[39;00m \u001b[38;5;28;01mNone\u001b[39;00m:\n",
      "File \u001b[0;32m~/VSCode/EAE127/.venv/lib/python3.12/site-packages/tabulate/__init__.py:1471\u001b[0m, in \u001b[0;36m_normalize_tabular_data\u001b[0;34m(tabular_data, headers, showindex)\u001b[0m\n\u001b[1;32m   1469\u001b[0m headers \u001b[38;5;241m=\u001b[39m \u001b[38;5;28mlist\u001b[39m(\u001b[38;5;28mmap\u001b[39m(\u001b[38;5;28mstr\u001b[39m, headers))\n\u001b[1;32m   1470\u001b[0m \u001b[38;5;66;03m#    rows = list(map(list, rows))\u001b[39;00m\n\u001b[0;32m-> 1471\u001b[0m rows \u001b[38;5;241m=\u001b[39m \u001b[38;5;28;43mlist\u001b[39;49m\u001b[43m(\u001b[49m\u001b[38;5;28;43mmap\u001b[39;49m\u001b[43m(\u001b[49m\u001b[38;5;28;43;01mlambda\u001b[39;49;00m\u001b[43m \u001b[49m\u001b[43mr\u001b[49m\u001b[43m:\u001b[49m\u001b[43m \u001b[49m\u001b[43mr\u001b[49m\u001b[43m \u001b[49m\u001b[38;5;28;43;01mif\u001b[39;49;00m\u001b[43m \u001b[49m\u001b[43m_is_separating_line\u001b[49m\u001b[43m(\u001b[49m\u001b[43mr\u001b[49m\u001b[43m)\u001b[49m\u001b[43m \u001b[49m\u001b[38;5;28;43;01melse\u001b[39;49;00m\u001b[43m \u001b[49m\u001b[38;5;28;43mlist\u001b[39;49m\u001b[43m(\u001b[49m\u001b[43mr\u001b[49m\u001b[43m)\u001b[49m\u001b[43m,\u001b[49m\u001b[43m \u001b[49m\u001b[43mrows\u001b[49m\u001b[43m)\u001b[49m\u001b[43m)\u001b[49m\n\u001b[1;32m   1473\u001b[0m \u001b[38;5;66;03m# add or remove an index column\u001b[39;00m\n\u001b[1;32m   1474\u001b[0m showindex_is_a_str \u001b[38;5;241m=\u001b[39m \u001b[38;5;28mtype\u001b[39m(showindex) \u001b[38;5;129;01min\u001b[39;00m [\u001b[38;5;28mstr\u001b[39m, \u001b[38;5;28mbytes\u001b[39m]\n",
      "File \u001b[0;32m~/VSCode/EAE127/.venv/lib/python3.12/site-packages/tabulate/__init__.py:1471\u001b[0m, in \u001b[0;36m_normalize_tabular_data.<locals>.<lambda>\u001b[0;34m(r)\u001b[0m\n\u001b[1;32m   1469\u001b[0m headers \u001b[38;5;241m=\u001b[39m \u001b[38;5;28mlist\u001b[39m(\u001b[38;5;28mmap\u001b[39m(\u001b[38;5;28mstr\u001b[39m, headers))\n\u001b[1;32m   1470\u001b[0m \u001b[38;5;66;03m#    rows = list(map(list, rows))\u001b[39;00m\n\u001b[0;32m-> 1471\u001b[0m rows \u001b[38;5;241m=\u001b[39m \u001b[38;5;28mlist\u001b[39m(\u001b[38;5;28mmap\u001b[39m(\u001b[38;5;28;01mlambda\u001b[39;00m r: r \u001b[38;5;28;01mif\u001b[39;00m _is_separating_line(r) \u001b[38;5;28;01melse\u001b[39;00m \u001b[38;5;28mlist\u001b[39m(r), rows))\n\u001b[1;32m   1473\u001b[0m \u001b[38;5;66;03m# add or remove an index column\u001b[39;00m\n\u001b[1;32m   1474\u001b[0m showindex_is_a_str \u001b[38;5;241m=\u001b[39m \u001b[38;5;28mtype\u001b[39m(showindex) \u001b[38;5;129;01min\u001b[39;00m [\u001b[38;5;28mstr\u001b[39m, \u001b[38;5;28mbytes\u001b[39m]\n",
      "\u001b[0;31mValueError\u001b[0m: The truth value of an array with more than one element is ambiguous. Use a.any() or a.all()"
     ]
    }
   ],
   "source": [
    "#2D Arrays\n",
    "X = np.meshgrid(x,x)\n",
    "X=X[0]\n",
    "print(X)\n",
    "print('\\n')\n",
    "\n",
    "from tabulate import tabulate #type:ignore\n",
    "\n",
    "column = [(X[0])[0],(X[1])[0], (X[2])[0], (X[3])[0], (X[4])[0], (X[5])[0]]\n",
    "\n",
    "def getColumn(two_array, column_num):\n",
    "    amount_col = len(two_array)\n",
    "    temp_column = np.zeros(amount_col)\n",
    "    for i in range(0,6):\n",
    "        temp_column[i] = two_array[i][column_num]\n",
    "    return(temp_column)\n",
    "\n",
    "\n",
    "showCol = [\n",
    "    ['Column 1', getColumn(X,0)]\n",
    "]\n",
    "\n",
    "print(tabulate(showCol))"
   ]
  },
  {
   "cell_type": "code",
   "execution_count": null,
   "metadata": {},
   "outputs": [],
   "source": [
    "import pandas as pd #type:ignore\n",
    "\n",
    "pd.read_csv(filename, delim_whitespace=True,skiprows=1,names=['x','z'])"
   ]
  }
 ],
 "metadata": {
  "kernelspec": {
   "display_name": ".venv",
   "language": "python",
   "name": "python3"
  },
  "language_info": {
   "codemirror_mode": {
    "name": "ipython",
    "version": 3
   },
   "file_extension": ".py",
   "mimetype": "text/x-python",
   "name": "python",
   "nbconvert_exporter": "python",
   "pygments_lexer": "ipython3",
   "version": "3.10.4"
  }
 },
 "nbformat": 4,
 "nbformat_minor": 2
}
