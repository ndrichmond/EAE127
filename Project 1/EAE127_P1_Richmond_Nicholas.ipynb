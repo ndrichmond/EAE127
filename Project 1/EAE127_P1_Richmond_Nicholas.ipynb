{
 "cells": [
  {
   "cell_type": "markdown",
   "metadata": {},
   "source": [
    "<hr>\n",
    "<h1 style=\"text-align: center;\">Introduction to Airfoils and XFOIL</h1>\n",
    "<hr>\n",
    "\n",
    "<h3 style=\"text-align: center;\">Nicholas Richmond</h3>\n",
    "<h3 style=\"text-align: center;\">Student ID: 919578115</h3>\n",
    "<h3 style=\"text-align: center;\">Project #: 1</h3>\n",
    "<h3 style=\"text-align: center;\">Date: 10/18/24</h3>\n",
    "\n",
    "<h3 style=\"text-align: center;\">EAE 127: Applied Aerodynamics</h3>\n",
    "<h3 style=\"text-align: center;\">University of California, Davis</h3>\n",
    "\n",
    "<hr>"
   ]
  },
  {
   "cell_type": "code",
   "execution_count": 1,
   "metadata": {},
   "outputs": [],
   "source": [
    "#standard imports and setups\n",
    "import numpy as np #type: ignore\n",
    "import os\n",
    "import matplotlib.pyplot as plt #type: ignore\n",
    "### JUPYTER NOTEBOOK SETTINGS ########################################\n",
    "#Plot all figures in full-size cells, no scroll bars\n",
    "%matplotlib inline\n",
    "#Disable Python Warning Output\n",
    "#(NOTE: Only for production, comment out for debugging)\n",
    "import warnings\n",
    "warnings.filterwarnings('ignore')\n",
    "### PLOTTING DEFAULTS BOILERPLATE (OPTIONAL) #########################\n",
    "#SET DEFAULT FIGURE APPERANCE\n",
    "import seaborn as sns #Fancy plotting package #type: ignore\n",
    "#No Background fill, legend font scale, frame on legend\n",
    "sns.set_theme(style='whitegrid', font_scale=1.5, rc={'legend.frameon': True})\n",
    "#Mark ticks with border on all four sides (overrides 'whitegrid')\n",
    "sns.set_style('ticks')\n",
    "#ticks point in\n",
    "sns.set_style({\"xtick.direction\": \"in\",\"ytick.direction\": \"in\"})\n",
    "#fix invisible marker bug\n",
    "sns.set_context(rc={'lines.markeredgewidth': 0.1})\n",
    "#restore default matplotlib colormap\n",
    "mplcolors = ['#1f77b4', '#ff7f0e', '#2ca02c', '#d62728', '#9467bd',\n",
    "'#8c564b', '#e377c2', '#7f7f7f', '#bcbd22', '#17becf']\n",
    "sns.set_palette(mplcolors)\n",
    "\n",
    "#Get color cycle for manual colors\n",
    "colors = sns.color_palette()\n",
    "#SET MATPLOTLIB DEFAULTS\n",
    "#(call after seaborn, which changes some defaults)\n",
    "params = {\n",
    "#FONT SIZES\n",
    "'axes.labelsize' : 30, #Axis Labels\n",
    "'axes.titlesize' : 30, #Title\n",
    "'font.size' : 28, #Textbox\n",
    "'xtick.labelsize': 22, #Axis tick labels\n",
    "'ytick.labelsize': 22, #Axis tick labels\n",
    "'legend.fontsize': 24, #Legend font size\n",
    "'font.family' : 'serif',\n",
    "'font.fantasy' : 'xkcd',\n",
    "'font.sans-serif': 'Helvetica',\n",
    "'font.monospace' : 'Courier',\n",
    "#AXIS PROPERTIES\n",
    "'axes.titlepad' : 2*6.0, #title spacing from axis\n",
    "'axes.grid' : True, #grid on plot\n",
    "'figure.figsize' : (8,8), #square plots\n",
    "'savefig.bbox' : 'tight', #reduce whitespace in saved figures\n",
    "#LEGEND PROPERTIES\n",
    "'legend.framealpha' : 0.5,\n",
    "'legend.fancybox' : True,\n",
    "'legend.frameon' : True,\n",
    "'legend.numpoints' : 1,\n",
    "'legend.scatterpoints' : 1,\n",
    "'legend.borderpad' : 0.1,\n",
    "'legend.borderaxespad' : 0.1,\n",
    "'legend.handletextpad' : 0.2,\n",
    "'legend.handlelength' : 1.0,\n",
    "'legend.labelspacing' : 0,\n",
    "}\n",
    "import matplotlib #type:ignore\n",
    "matplotlib.rcParams.update(params) #update matplotlib defaults, call after￿\n",
    "### END OF BOILERPLATE ##################################################\n",
    "colors = sns.color_palette() #color cycle"
   ]
  },
  {
   "cell_type": "code",
   "execution_count": 3,
   "metadata": {},
   "outputs": [
    {
     "ename": "TypeError",
     "evalue": "'float' object cannot be interpreted as an integer",
     "output_type": "error",
     "traceback": [
      "\u001b[0;31m---------------------------------------------------------------------------\u001b[0m",
      "\u001b[0;31mTypeError\u001b[0m                                 Traceback (most recent call last)",
      "Cell \u001b[0;32mIn[3], line 10\u001b[0m\n\u001b[1;32m      6\u001b[0m         \u001b[38;5;28;01mfor\u001b[39;00m i \u001b[38;5;129;01min\u001b[39;00m \u001b[38;5;28mrange\u001b[39m(\u001b[38;5;241m0\u001b[39m,\u001b[38;5;241m1\u001b[39m,\u001b[38;5;241m0.0125\u001b[39m):\n\u001b[1;32m      7\u001b[0m             \u001b[38;5;66;03m#ztc = ztc.append((t/0.2)*(0.2969*(i)**(1/2) - 0.1260*i))\u001b[39;00m\n\u001b[1;32m      8\u001b[0m             \u001b[38;5;28mprint\u001b[39m(i)\n\u001b[0;32m---> 10\u001b[0m \u001b[43mnaca\u001b[49m\u001b[43m(\u001b[49m\u001b[38;5;241;43m0\u001b[39;49m\u001b[43m,\u001b[49m\u001b[38;5;241;43m0\u001b[39;49m\u001b[43m,\u001b[49m\u001b[38;5;241;43m12\u001b[39;49m\u001b[43m)\u001b[49m\n",
      "Cell \u001b[0;32mIn[3], line 6\u001b[0m, in \u001b[0;36mnaca\u001b[0;34m(m, p, t)\u001b[0m\n\u001b[1;32m      4\u001b[0m \u001b[38;5;28;01mif\u001b[39;00m (m \u001b[38;5;241m==\u001b[39m \u001b[38;5;241m0\u001b[39m) \u001b[38;5;129;01mand\u001b[39;00m (p \u001b[38;5;241m==\u001b[39m \u001b[38;5;241m0\u001b[39m):\n\u001b[1;32m      5\u001b[0m     ztc \u001b[38;5;241m=\u001b[39m np\u001b[38;5;241m.\u001b[39mzeros(\u001b[38;5;241m80\u001b[39m)\n\u001b[0;32m----> 6\u001b[0m     \u001b[38;5;28;01mfor\u001b[39;00m i \u001b[38;5;129;01min\u001b[39;00m \u001b[38;5;28;43mrange\u001b[39;49m\u001b[43m(\u001b[49m\u001b[38;5;241;43m0\u001b[39;49m\u001b[43m,\u001b[49m\u001b[38;5;241;43m1\u001b[39;49m\u001b[43m,\u001b[49m\u001b[38;5;241;43m0.0125\u001b[39;49m\u001b[43m)\u001b[49m:\n\u001b[1;32m      7\u001b[0m         \u001b[38;5;66;03m#ztc = ztc.append((t/0.2)*(0.2969*(i)**(1/2) - 0.1260*i))\u001b[39;00m\n\u001b[1;32m      8\u001b[0m         \u001b[38;5;28mprint\u001b[39m(i)\n",
      "\u001b[0;31mTypeError\u001b[0m: 'float' object cannot be interpreted as an integer"
     ]
    }
   ],
   "source": [
    "#create NACA airfoil coordinate functino\n",
    "\n",
    "def naca(m,p,t):\n",
    "    if (m == 0) and (p == 0):\n",
    "        ztc = np.zeros(80)\n",
    "        for i in range(0,1,0.0125):\n",
    "            #ztc = ztc.append((t/0.2)*(0.2969*(i)**(1/2) - 0.1260*i))\n",
    "            print(i)\n",
    "\n",
    "naca(0,0,12)"
   ]
  }
 ],
 "metadata": {
  "kernelspec": {
   "display_name": ".venv",
   "language": "python",
   "name": "python3"
  },
  "language_info": {
   "codemirror_mode": {
    "name": "ipython",
    "version": 3
   },
   "file_extension": ".py",
   "mimetype": "text/x-python",
   "name": "python",
   "nbconvert_exporter": "python",
   "pygments_lexer": "ipython3",
   "version": "3.12.7"
  }
 },
 "nbformat": 4,
 "nbformat_minor": 2
}
