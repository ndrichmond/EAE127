{
 "cells": [
  {
   "cell_type": "markdown",
   "metadata": {},
   "source": [
    "<hr>\n",
    "<h1 style=\"text-align: center;\">Introduction to Aerodynamics and Python</h1>\n",
    "<hr>\n",
    "\n",
    "<h3 style=\"text-align: center;\">Nicholas Richmond</h3>\n",
    "<h3 style=\"text-align: center;\">Student ID: 919578115</h3>\n",
    "<h3 style=\"text-align: center;\">Project #: 0</h3>\n",
    "<h3 style=\"text-align: center;\">Date: 10/10/24</h3>\n",
    "\n",
    "<h3 style=\"text-align: center;\">EAE 127: Applied Aerodynamics</h3>\n",
    "<h3 style=\"text-align: center;\">University of California, Davis</h3>\n",
    "\n",
    "<hr>"
   ]
  },
  {
   "cell_type": "markdown",
   "metadata": {},
   "source": [
    "<hr>\n",
    "\n",
    "# **Local Software Environment Setup Acknowledgment**\n",
    "\n",
    "I, Nicholas Richmond, acknowledge that I have downloaded and successfully setup Python, Anaconda, and my desired IDE on my working machine for this course prior to the submission of this assignment. \n",
    "\n",
    "10/10/24\n",
    "\n",
    "<hr>"
   ]
  },
  {
   "cell_type": "markdown",
   "metadata": {},
   "source": [
    "\n",
    "Setup plotting presets and imports:"
   ]
  },
  {
   "cell_type": "code",
   "execution_count": 2,
   "metadata": {},
   "outputs": [],
   "source": [
    "#STANDARD IMPORTS\n",
    "import numpy as np \n",
    "import os\n",
    "import matplotlib.pyplot as plt \n",
    "### JUPYTER NOTEBOOK SETTINGS ########################################\n",
    "#Plot all figures in full-size cells, no scroll bars\n",
    "%matplotlib inline\n",
    "#Disable Python Warning Output\n",
    "#(NOTE: Only for production, comment out for debugging)\n",
    "import warnings\n",
    "warnings.filterwarnings('ignore')\n",
    "### PLOTTING DEFAULTS BOILERPLATE (OPTIONAL) #########################\n",
    "#SET DEFAULT FIGURE APPERANCE\n",
    "import seaborn as sns #Fancy plotting package \n",
    "#No Background fill, legend font scale, frame on legend\n",
    "sns.set_theme(style='whitegrid', font_scale=1.5, rc={'legend.frameon': True})\n",
    "#Mark ticks with border on all four sides (overrides 'whitegrid')\n",
    "sns.set_style('ticks')\n",
    "#ticks point in\n",
    "sns.set_style({\"xtick.direction\": \"in\",\"ytick.direction\": \"in\"})\n",
    "#fix invisible marker bug\n",
    "sns.set_context(rc={'lines.markeredgewidth': 0.1})\n",
    "#restore default matplotlib colormap\n",
    "mplcolors = ['#1f77b4', '#ff7f0e', '#2ca02c', '#d62728', '#9467bd',\n",
    "'#8c564b', '#e377c2', '#7f7f7f', '#bcbd22', '#17becf']\n",
    "sns.set_palette(mplcolors)\n",
    "\n",
    "#Get color cycle for manual colors\n",
    "colors = sns.color_palette()\n",
    "#SET MATPLOTLIB DEFAULTS\n",
    "#(call after seaborn, which changes some defaults)\n",
    "params = {\n",
    "#FONT SIZES\n",
    "'axes.labelsize' : 30, #Axis Labels\n",
    "'axes.titlesize' : 30, #Title\n",
    "'font.size' : 28, #Textbox\n",
    "'xtick.labelsize': 22, #Axis tick labels\n",
    "'ytick.labelsize': 22, #Axis tick labels\n",
    "'legend.fontsize': 24, #Legend font size\n",
    "'font.family' : 'serif',\n",
    "'font.fantasy' : 'xkcd',\n",
    "'font.sans-serif': 'Helvetica',\n",
    "'font.monospace' : 'Courier',\n",
    "#AXIS PROPERTIES\n",
    "'axes.titlepad' : 2*6.0, #title spacing from axis\n",
    "'axes.grid' : True, #grid on plot\n",
    "'figure.figsize' : (8,8), #square plots\n",
    "'savefig.bbox' : 'tight', #reduce whitespace in saved figures\n",
    "#LEGEND PROPERTIES\n",
    "'legend.framealpha' : 0.5,\n",
    "'legend.fancybox' : True,\n",
    "'legend.frameon' : True,\n",
    "'legend.numpoints' : 1,\n",
    "'legend.scatterpoints' : 1,\n",
    "'legend.borderpad' : 0.1,\n",
    "'legend.borderaxespad' : 0.1,\n",
    "'legend.handletextpad' : 0.2,\n",
    "'legend.handlelength' : 1.0,\n",
    "'legend.labelspacing' : 0,\n",
    "}\n",
    "import matplotlib \n",
    "matplotlib.rcParams.update(params) #update matplotlib defaults, call after￿\n",
    "### END OF BOILERPLATE ##################################################\n",
    "colors = sns.color_palette() #color cycle"
   ]
  },
  {
   "cell_type": "markdown",
   "metadata": {},
   "source": [
    "<hr>\n",
    "\n",
    "### Problem 1: Boundary Layers and Numeric Integration\n",
    "1.1: Turbulent Boundary Layer Velocity Profile\n",
    "\n",
    "For this part of the problem, the goal is to calculate and plot the horizontal velocity distribution in the vertical direction for both a Laminar and a Turbulent boundary layer. \n",
    "\n",
    "<hr>\n",
    "\n",
    "The velocity profile for laminar and turbulent layers is given by the following:\n",
    "\n",
    "**Laminar Boundary Layer Velocity Profile** \n",
    "$$ \\frac{u}{u_e} \\approx \\left[ 2 \\left( \\frac{y}{\\delta} \\right) - \\left( \\frac{y}{\\delta} \\right)^2 \\right] $$\n",
    "\n",
    "**Turbulent Boundary Layer Velocity Profile** \n",
    "$$ \\frac{u}{u_e} \\approx \\left( \\frac{y}{\\delta} \\right)^{\\dfrac{1}{7}} $$\n",
    "\n",
    "where $\\frac{y}{\\delta}$ is the vertical coordinate in the boundary layer at some x-location non-dimensionalized by the physical boundary layer thickness at that x-location and $\\frac{u}{u_{e}}$ is the velocity in the x-direction non-dimensionalized by the x-velocity of the flow at the edge of the boundary\n",
    "layer (where y = d). \n",
    "\n",
    "<hr>"
   ]
  }
 ],
 "metadata": {
  "kernelspec": {
   "display_name": ".venv",
   "language": "python",
   "name": "python3"
  },
  "language_info": {
   "codemirror_mode": {
    "name": "ipython",
    "version": 3
   },
   "file_extension": ".py",
   "mimetype": "text/x-python",
   "name": "python",
   "nbconvert_exporter": "python",
   "pygments_lexer": "ipython3",
   "version": "3.10.4"
  }
 },
 "nbformat": 4,
 "nbformat_minor": 2
}
